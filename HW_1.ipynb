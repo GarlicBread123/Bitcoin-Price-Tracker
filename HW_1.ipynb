{
  "nbformat": 4,
  "nbformat_minor": 0,
  "metadata": {
    "colab": {
      "provenance": [],
      "authorship_tag": "ABX9TyMa58c7F8K1emvIBA+TV5bs",
      "include_colab_link": true
    },
    "kernelspec": {
      "name": "python3",
      "display_name": "Python 3"
    },
    "language_info": {
      "name": "python"
    }
  },
  "cells": [
    {
      "cell_type": "markdown",
      "metadata": {
        "id": "view-in-github",
        "colab_type": "text"
      },
      "source": [
        "<a href=\"https://colab.research.google.com/github/shawnjiang2000/Bitcoin-Price-Tracker/blob/master/HW_1.ipynb\" target=\"_parent\"><img src=\"https://colab.research.google.com/assets/colab-badge.svg\" alt=\"Open In Colab\"/></a>"
      ]
    },
    {
      "cell_type": "code",
      "source": [
        "def oddNumsSum():\n",
        "  sum = 0\n",
        "  for x in range(1,100):\n",
        "    if x % 2 == 1:\n",
        "      print(x)\n",
        "\n",
        "def perfectSquaresSum():\n",
        "  sum = 0\n",
        "  for x in range(1,100):\n",
        "    if (x*x) < 100:\n",
        "      print(x*x) \n",
        "\n",
        "oddNumsSum()\n",
        "perfectSquaresSum()"
      ],
      "metadata": {
        "colab": {
          "base_uri": "https://localhost:8080/"
        },
        "id": "Jf1oqtAoPe3F",
        "outputId": "4124deb6-e152-45f1-f608-9638b591de3a"
      },
      "execution_count": 8,
      "outputs": [
        {
          "output_type": "stream",
          "name": "stdout",
          "text": [
            "1\n",
            "3\n",
            "5\n",
            "7\n",
            "9\n",
            "11\n",
            "13\n",
            "15\n",
            "17\n",
            "19\n",
            "21\n",
            "23\n",
            "25\n",
            "27\n",
            "29\n",
            "31\n",
            "33\n",
            "35\n",
            "37\n",
            "39\n",
            "41\n",
            "43\n",
            "45\n",
            "47\n",
            "49\n",
            "51\n",
            "53\n",
            "55\n",
            "57\n",
            "59\n",
            "61\n",
            "63\n",
            "65\n",
            "67\n",
            "69\n",
            "71\n",
            "73\n",
            "75\n",
            "77\n",
            "79\n",
            "81\n",
            "83\n",
            "85\n",
            "87\n",
            "89\n",
            "91\n",
            "93\n",
            "95\n",
            "97\n",
            "99\n",
            "1\n",
            "4\n",
            "9\n",
            "16\n",
            "25\n",
            "36\n",
            "49\n",
            "64\n",
            "81\n"
          ]
        }
      ]
    },
    {
      "cell_type": "code",
      "source": [
        "class Solution(object):\n",
        "    def isPalindrome(self, x):\n",
        "        if x < 0:\n",
        "            return False\n",
        "\n",
        "        palindrome = str(x)\n",
        "        ptr1 = 0\n",
        "        ptr2 = -1\n",
        "        for a in range(0,len(x)//2):\n",
        "          if x[ptr1 + a] != x[ptr2-a]:\n",
        "            return False\n",
        "\n",
        "        return True\n",
        "\n",
        "\n",
        "    \n",
        "      \"\"\"\n",
        "\n",
        "      [(121 // 10 ^2) * 100, (121//10) % ((121//10)//10), (121//1)% ((121//10)//10//10)]\n",
        "\n",
        "        y = 1\n",
        "        z = x\n",
        "        while z >= 10:\n",
        "            z = z // 10\n",
        "            y += 1\n",
        "        \n",
        "        list = []\n",
        "        for a in range(y,0,-1):\n",
        "            list.append(x//((10)**a))\n",
        "\n",
        "        for m in range(y-1, ((y//2)-1), -1):\n",
        "            for n in range(0,(y//2)):\n",
        "                if list[m] != list[n]:\n",
        "                    return False\n",
        "        return True\n",
        "            \n",
        "\n",
        "        \n",
        "\n",
        "        \"\"\"\n",
        "        \"\"\"\n",
        "        :type x: int\n",
        "        :rtype: bool\n",
        "        \"\"\""
      ],
      "metadata": {
        "colab": {
          "base_uri": "https://localhost:8080/"
        },
        "id": "jLWJ9m6ePv1u",
        "outputId": "7887a1b7-90b9-48a6-c59c-d5f94f1f8bb7"
      },
      "execution_count": 45,
      "outputs": [
        {
          "output_type": "stream",
          "name": "stdout",
          "text": [
            "[111, 111]\n"
          ]
        }
      ]
    },
    {
      "cell_type": "code",
      "source": [
        "def bubbleSort(array):\n",
        "  for x in range(0, len(array)-1):\n",
        "    if array[x] > array[x+1]:\n",
        "      y = array[x]\n",
        "      array[x] = array[x+1]\n",
        "      array[x+1] = y\n",
        "  print(array)\n",
        "\n",
        "bubbleSort([1,3,2])"
      ],
      "metadata": {
        "colab": {
          "base_uri": "https://localhost:8080/"
        },
        "id": "xSmtSDs_M22X",
        "outputId": "7311f546-e67d-46b0-fea4-c4850825ddf1"
      },
      "execution_count": 2,
      "outputs": [
        {
          "output_type": "stream",
          "name": "stdout",
          "text": [
            "[1, 2, 3]\n"
          ]
        }
      ]
    },
    {
      "cell_type": "code",
      "source": [
        "def multipleSum():\n",
        "  sum = 0\n",
        "  for x in range(1,1000):\n",
        "    if x % 3 == 0 or x % 5 == 0:\n",
        "      sum = sum + x\n",
        "  print(sum)\n",
        "\n",
        "multipleSum()"
      ],
      "metadata": {
        "colab": {
          "base_uri": "https://localhost:8080/"
        },
        "id": "Ywl-Sx4uOD8f",
        "outputId": "c187f650-db06-4fa0-8509-791bf0a7493d"
      },
      "execution_count": 3,
      "outputs": [
        {
          "output_type": "stream",
          "name": "stdout",
          "text": [
            "233168\n"
          ]
        }
      ]
    }
  ]
}